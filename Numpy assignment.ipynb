{
 "cells": [
  {
   "cell_type": "code",
   "execution_count": 10,
   "metadata": {},
   "outputs": [],
   "source": [
    "import numpy as np\n",
    "import os\n",
    "import matplotlib.pyplot as plt\n",
    "from PIL import Image"
   ]
  },
  {
   "cell_type": "code",
   "execution_count": 11,
   "metadata": {
    "scrolled": true
   },
   "outputs": [],
   "source": [
    "arr = np.zeros(( 20, 200, 200, 3), dtype='int16')\n",
    "x = 0\n"
   ]
  },
  {
   "cell_type": "code",
   "execution_count": 12,
   "metadata": {},
   "outputs": [
    {
     "name": "stdout",
     "output_type": "stream",
     "text": [
      "Found directory: .\\pics\n",
      "\t1.jpg Original Size = (301, 167) Resized into = (200, 200)\n",
      "\t10.jpg Original Size = (299, 168) Resized into = (200, 200)\n",
      "\t11.jpg Original Size = (318, 159) Resized into = (200, 200)\n",
      "\t12.jpg Original Size = (299, 168) Resized into = (200, 200)\n",
      "\t13.jpg Original Size = (295, 171) Resized into = (200, 200)\n",
      "\t14.jpg Original Size = (299, 168) Resized into = (200, 200)\n",
      "\t15.jpg Original Size = (299, 168) Resized into = (200, 200)\n",
      "\t16.jpg Original Size = (297, 170) Resized into = (200, 200)\n",
      "\t17.jpg Original Size = (275, 183) Resized into = (200, 200)\n",
      "\t18.jpg Original Size = (299, 168) Resized into = (200, 200)\n",
      "\t19.jpg Original Size = (300, 168) Resized into = (200, 200)\n",
      "\t2.jpg Original Size = (300, 168) Resized into = (200, 200)\n",
      "\t20.jpg Original Size = (331, 152) Resized into = (200, 200)\n",
      "\t3.jpg Original Size = (300, 168) Resized into = (200, 200)\n",
      "\t4.jpg Original Size = (275, 183) Resized into = (200, 200)\n",
      "\t5.jpg Original Size = (224, 224) Resized into = (200, 200)\n",
      "\t6.jpg Original Size = (284, 177) Resized into = (200, 200)\n",
      "\t7.jpg Original Size = (275, 183) Resized into = (200, 200)\n",
      "\t8.jpg Original Size = (266, 189) Resized into = (200, 200)\n",
      "\t9.jpg Original Size = (259, 194) Resized into = (200, 200)\n"
     ]
    }
   ],
   "source": [
    "rootDir = '.\\pics'\n",
    "for dirName, subdirList, fileList in os.walk(rootDir):\n",
    "    print(f'Found directory: {dirName}')\n",
    "for fname in fileList:\n",
    "    print(f'\\t{fname}', end=' ')\n",
    "    im = Image.open(dirName+'\\\\'+fname)\n",
    "    print(f'Original Size = {im.size}', end=' ')\n",
    "    im = im.resize((200,200), Image.ANTIALIAS)\n",
    "    print(f'Resized into = {im.size}')\n",
    "    arr[x] = np.array(im, dtype='int16')\n",
    "    x +=1"
   ]
  },
  {
   "cell_type": "code",
   "execution_count": 6,
   "metadata": {},
   "outputs": [
    {
     "data": {
      "text/plain": [
       "(200, 200, 3)"
      ]
     },
     "execution_count": 6,
     "metadata": {},
     "output_type": "execute_result"
    }
   ],
   "source": [
    "arr[0].shape"
   ]
  },
  {
   "cell_type": "code",
   "execution_count": null,
   "metadata": {},
   "outputs": [],
   "source": []
  }
 ],
 "metadata": {
  "kernelspec": {
   "display_name": "Python 3",
   "language": "python",
   "name": "python3"
  },
  "language_info": {
   "codemirror_mode": {
    "name": "ipython",
    "version": 3
   },
   "file_extension": ".py",
   "mimetype": "text/x-python",
   "name": "python",
   "nbconvert_exporter": "python",
   "pygments_lexer": "ipython3",
   "version": "3.7.3"
  }
 },
 "nbformat": 4,
 "nbformat_minor": 2
}
